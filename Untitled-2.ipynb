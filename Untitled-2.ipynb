{
 "cells": [
  {
   "cell_type": "code",
   "execution_count": 2,
   "id": "5ce3fc74",
   "metadata": {},
   "outputs": [],
   "source": [
    "%matplotlib inline\n",
    "import json\n",
    "import numpy as np\n",
    "import pandas as pd\n",
    "import networkx as nx\n"
   ]
  },
  {
   "cell_type": "code",
   "execution_count": 3,
   "id": "57b20ebc",
   "metadata": {},
   "outputs": [],
   "source": [
    "g=nx.Graph()"
   ]
  },
  {
   "cell_type": "code",
   "execution_count": 8,
   "id": "5f9d5e45",
   "metadata": {},
   "outputs": [
    {
     "name": "stdout",
     "output_type": "stream",
     "text": [
      "Nodes: 33609\n",
      "Edges: 136086\n",
      "GraphML exported to: actors.graphml\n"
     ]
    }
   ],
   "source": [
    "file_path = \"imdb_movies_2000to2022.prolific.json\"\n",
    "with open(file_path, \"r\") as in_file:\n",
    "    for line in in_file:\n",
    "        this_movie = json.loads(line)\n",
    "    \n",
    "        for actor_id, actor_name in this_movie['actors']:\n",
    "            g.add_node(actor_id, name=actor_name)\n",
    "            \n",
    "            i=0    \n",
    "            for left_actor_id, left_actor_name in this_movie['actors']:\n",
    "                for right_actor_id, right_actor_name in this_movie['actors'][i+1:]:\n",
    "                    current_weight=g[left_actor_id][right_actor_id]['weight'] if g.has_edge(left_actor_id, right_actor_id) else 0\n",
    "                    \n",
    "                    g.add_edge(left_actor_id, right_actor_id, weight=current_weight + 1)\n",
    "                \n",
    "                i+=1\n",
    "            \n",
    "print(\"Nodes:\", len(g.nodes))\n",
    "print(\"Edges:\", len(g.edges))\n",
    "\n",
    "nx.write_graphml(g, \"actors.graphml\")\n",
    "print(\"GraphML exported to: actors.graphml\")"
   ]
  },
  {
   "cell_type": "code",
   "execution_count": 7,
   "id": "ef31cc91",
   "metadata": {},
   "outputs": [
    {
     "name": "stdout",
     "output_type": "stream",
     "text": [
      "\n",
      "Top 20 actors by number of neighbors:\n",
      "Eric Roberts -578\n",
      "Tom Sizemore -280\n",
      "Michael Madsen -268\n",
      "Danny Trejo -243\n",
      "Joe Hammerstone -222\n",
      "Tony Devon -216\n",
      "Dean Cain -199\n",
      "Lloyd Kaufman -190\n",
      "Joe Estevez -186\n",
      "Nicolas Cage -172\n",
      "Bill Oberst Jr. -170\n",
      "Debbie Rochon -169\n",
      "James Franco -165\n",
      "Tony Todd -161\n",
      "Theodore Bouloukos -161\n",
      "Bruce Willis -157\n",
      "Michael Paré -151\n",
      "Samuel L. Jackson -149\n",
      "Willem Dafoe -148\n",
      "Lance Henriksen -145\n"
     ]
    }
   ],
   "source": [
    "top_k=20\n",
    "deg_list = sorted(g.degree, key=lambda x: x[1], reverse= True)[:top_k]\n",
    "print(\"\\nTop 20 actors by number of neighbors:\")\n",
    "for node_id, deg in deg_list:\n",
    "    print(f\"{g.nodes[node_id].get('name', node_id)} -{deg}\")"
   ]
  }
 ],
 "metadata": {
  "kernelspec": {
   "display_name": ".venv",
   "language": "python",
   "name": "python3"
  },
  "language_info": {
   "codemirror_mode": {
    "name": "ipython",
    "version": 3
   },
   "file_extension": ".py",
   "mimetype": "text/x-python",
   "name": "python",
   "nbconvert_exporter": "python",
   "pygments_lexer": "ipython3",
   "version": "3.12.10"
  }
 },
 "nbformat": 4,
 "nbformat_minor": 5
}
